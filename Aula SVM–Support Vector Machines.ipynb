{
 "cells": [
  {
   "cell_type": "markdown",
   "metadata": {},
   "source": [
    "# 📚 Tema: SVM – Support Vector Machines\n",
    "## 🧠 Parte 1: Classificação Linear com SVM\n",
    "### 👉 Explicação simples:\n",
    "A SVM Linear é um modelo de classificação que tenta encontrar uma linha (ou um plano, se tiver mais de 2 dimensões) que separa duas classes de dados com a maior margem possível.\n",
    "\n",
    "### 👉 Conceito-chave: Margem\n",
    "Margem é a distância entre a linha de separação e os pontos de dados mais próximos de cada classe (os chamados vetores de suporte).\n",
    "\n",
    "Quanto maior a margem, melhor o modelo tende a generalizar."
   ]
  },
  {
   "cell_type": "code",
   "execution_count": 4,
   "metadata": {},
   "outputs": [],
   "source": [
    "import numpy as np\n",
    "import matplotlib.pyplot as plt\n",
    "from sklearn import datasets\n",
    "from sklearn.svm import SVC\n",
    "from sklearn.model_selection import train_test_split\n",
    "from sklearn.metrics import accuracy_score\n"
   ]
  },
  {
   "cell_type": "code",
   "execution_count": null,
   "metadata": {},
   "outputs": [],
   "source": [
    "iris = datasets.load_iris()\n",
    "\n",
    "X = iris.data[:,:2] # Usando apenas as 2 primeiras caracteristicas\n",
    "y = (iris.target != 0) * 1 #Transformando o problema em binário\n",
    "\n",
    "\n",
    "# Dividindo: 70% para treino, 30% para teste\n",
    "X_train, X_test, y_train, y_test = train_test_split(X, y, test_size=0.3, random_state=42)\n",
    "\n",
    "# Testar vários valores de C\n",
    "for C_value in [0.01,0.1,1,10,100]:\n",
    "    # Criar modelo SVM com kernel linear\n",
    "    model = SVC(kernel='linear',C=C_value)\n",
    "\n",
    "    # Treinar modelo\n",
    "    model.fit(X_train,y_train)\n",
    "\n",
    "    # Fazer previsões\n",
    "    y_pred = model.predict(X_test)\n",
    "\n",
    "    # Avaliar a acurácia\n",
    "    acc = accuracy_score(y_test,y_pred)\n",
    "\n",
    "    print(f\"C = {C_value} | Acurácia no teste = {acc:.2f}\")\n",
    "\n",
    "\n",
    "\n"
   ]
  },
  {
   "cell_type": "markdown",
   "metadata": {},
   "source": [
    "## Parte 2: Classificação SVM Não Linear (Kernel Trick)\n",
    "### 👉 O problema:\n",
    "Nem sempre os dados podem ser separados por uma linha reta ou um plano (classificação linear).\n",
    "\n",
    "Por exemplo, imagine um conjunto de dados como o famoso \"moons\" (duas luas em forma de meia-lua)\n",
    "\n",
    "Por exemplo:\n",
    "Se os dados têm duas dimensões (x1 e x2), podemos criar uma nova característica chamada:\n",
    "\n",
    "x3 = x1² + x2²\n",
    "\n",
    "Assim, os dados que antes pareciam um círculo, agora podem ser separados em um espaço 3D."
   ]
  },
  {
   "cell_type": "code",
   "execution_count": 6,
   "metadata": {},
   "outputs": [],
   "source": [
    "from sklearn.datasets import make_moons\n",
    "from sklearn.preprocessing import PolynomialFeatures\n",
    "from sklearn.pipeline import Pipeline\n",
    "from sklearn.svm import SVC\n",
    "from sklearn.metrics import accuracy_score"
   ]
  },
  {
   "cell_type": "code",
   "execution_count": 9,
   "metadata": {},
   "outputs": [
    {
     "name": "stdout",
     "output_type": "stream",
     "text": [
      "Acurácia: 1.0\n"
     ]
    }
   ],
   "source": [
    "# Gerar conjunto de dados \"moons\"\n",
    "X, y = make_moons(noise=0.1,random_state=0)\n",
    "\n",
    "# Pipeline: Cria caracteristicas polimonios + aplica SVM linear\n",
    "poly_svm_clf = Pipeline([\n",
    "    (\"poly_features\",PolynomialFeatures(degree=3)),\n",
    "    (\"sym_clf\",SVC(kernel=\"linear\",C=10))\n",
    "])\n",
    "\n",
    "# Treinamento\n",
    "poly_svm_clf.fit(X,y)\n",
    "\n",
    "# Teste\n",
    "y_pred = poly_svm_clf.predict(X)\n",
    "print(\"Acurácia:\",accuracy_score(y,y_pred))"
   ]
  },
  {
   "cell_type": "code",
   "execution_count": 10,
   "metadata": {},
   "outputs": [
    {
     "name": "stdout",
     "output_type": "stream",
     "text": [
      "Acurácia com Kernel Polinomial: 0.94\n"
     ]
    }
   ],
   "source": [
    "model = SVC(kernel='poly',degree=3,C=10)\n",
    "model.fit(X,y)\n",
    "print(\"Acurácia com Kernel Polinomial:\", accuracy_score(y, model.predict(X)))"
   ]
  },
  {
   "cell_type": "code",
   "execution_count": 11,
   "metadata": {},
   "outputs": [
    {
     "name": "stdout",
     "output_type": "stream",
     "text": [
      "Acurácia com Kernel RBF(Gaussiano): 1.0\n"
     ]
    }
   ],
   "source": [
    "model = SVC(kernel='rbf', gamma='scale', C=10)\n",
    "model.fit(X, y)\n",
    "print(\"Acurácia com Kernel RBF(Gaussiano):\", accuracy_score(y, model.predict(X)))\n"
   ]
  }
 ],
 "metadata": {
  "kernelspec": {
   "display_name": "ml",
   "language": "python",
   "name": "python3"
  },
  "language_info": {
   "codemirror_mode": {
    "name": "ipython",
    "version": 3
   },
   "file_extension": ".py",
   "mimetype": "text/x-python",
   "name": "python",
   "nbconvert_exporter": "python",
   "pygments_lexer": "ipython3",
   "version": "3.11.11"
  }
 },
 "nbformat": 4,
 "nbformat_minor": 2
}
